{
 "cells": [
  {
   "cell_type": "code",
   "execution_count": 77,
   "id": "372397e9",
   "metadata": {},
   "outputs": [],
   "source": [
    "import numpy as np\n",
    "import matplotlib.pyplot as plt\n",
    "import re"
   ]
  },
  {
   "cell_type": "code",
   "execution_count": 84,
   "id": "2a437e55",
   "metadata": {},
   "outputs": [],
   "source": [
    "batch_size = 512\n",
    "size_hidden = 20\n",
    "reg_coef = 100\n",
    "\n",
    "dir_name = f\"/home/flaessig/Continual-Learning-Benchmark/outputs/lr-sweep-{batch_size=}-{size_hidden=}-{reg_coef=}/\"\n",
    "lrs = [1 / 10**(i / 2) for i in range(3, 4, 1)]\n",
    "\n",
    "results = {'bp': {}, 'ewc': {}}\n",
    "\n",
    "for name in results.keys():\n",
    "    results[name]['means'] = []\n",
    "    results[name]['stds'] = []\n",
    "    for lr in lrs:\n",
    "        file_name = dir_name + f\"{name}/{lr=}.log\"\n",
    "        with open(file_name) as f:\n",
    "            f = f.readlines()\n",
    "        summary = f[-1]\n",
    "        results[name]['means'].append(float(re.search('mean: (.*) std', summary).group(1)))\n",
    "        results[name]['stds'].append(float(re.search('std: (.*)', summary).group(1)))"
   ]
  },
  {
   "cell_type": "code",
   "execution_count": 85,
   "id": "743437f8",
   "metadata": {},
   "outputs": [
    {
     "data": {
      "image/png": "[encoded data removed]",
      "text/plain": [
       "<Figure size 432x288 with 1 Axes>"
      ]
     },
     "metadata": {
      "needs_background": "light"
     },
     "output_type": "display_data"
    }
   ],
   "source": [
    "for name, val in results.items():\n",
    "    plt.errorbar(lrs, val['means'], yerr=val['stds'], label=name)\n",
    "plt.legend()\n",
    "plt.xscale('log')"
   ]
  }
 ],
 "metadata": {
  "kernelspec": {
   "display_name": "Python 3 (ipykernel)",
   "language": "python",
   "name": "python3"
  },
  "language_info": {
   "codemirror_mode": {
    "name": "ipython",
    "version": 3
   },
   "file_extension": ".py",
   "mimetype": "text/x-python",
   "name": "python",
   "nbconvert_exporter": "python",
   "pygments_lexer": "ipython3",
   "version": "3.10.4"
  }
 },
 "nbformat": 4,
 "nbformat_minor": 5
}
