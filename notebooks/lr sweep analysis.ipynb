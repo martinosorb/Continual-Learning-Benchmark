{
 "cells": [
  {
   "cell_type": "code",
   "execution_count": 58,
   "id": "8bfe1adc",
   "metadata": {},
   "outputs": [],
   "source": [
    "import numpy as np\n",
    "import matplotlib.pyplot as plt\n",
    "import re"
   ]
  },
  {
   "cell_type": "code",
   "execution_count": 61,
   "id": "f5a2cd4e",
   "metadata": {},
   "outputs": [
    {
     "name": "stdout",
     "output_type": "stream",
     "text": [
      "reg_coef: 0.0 mean: 62.54054122971324 std: 0.0\n",
      "\n",
      "reg_coef: 0.0 mean: 62.022943565729555 std: 0.0\n",
      "\n",
      "reg_coef: 100.0 mean: 61.8194328404132 std: 0.0\n",
      "\n",
      "reg_coef: 100.0 mean: 64.18960449277392 std: 0.0\n",
      "\n"
     ]
    }
   ],
   "source": [
    "dir_name = \"/home/flaessig/Continual-Learning-Benchmark/outputs/lr-sweep-batch_size=512-size_hidden=20-reg_coef=100/\"\n",
    "lrs = [1 / 10**(i / 2) for i in range(3, 5, 1)]\n",
    "\n",
    "results = {'bp': {}, 'ewc': {}}\n",
    "\n",
    "for name in results.keys():\n",
    "    results[name]['means'] = []\n",
    "    results[name]['stds'] = []\n",
    "    for lr in lrs:\n",
    "        file_name = dir_name + f\"{name}/{lr=}.log\"\n",
    "        with open(file_name) as f:\n",
    "            f = f.readlines()\n",
    "        summary = f[-1]\n",
    "        print(summary)\n",
    "        results[name]['means'].append(float(re.search('mean: (.*) std', summary).group(1)))\n",
    "        results[name]['stds'].append((re.search('std: (.*)', summary).group(1)))"
   ]
  },
  {
   "cell_type": "code",
   "execution_count": 64,
   "id": "8f131e75",
   "metadata": {},
   "outputs": [
    {
     "data": {
      "image/png": "[encoded data removed]",
      "text/plain": [
       "<Figure size 432x288 with 1 Axes>"
      ]
     },
     "metadata": {
      "needs_background": "light"
     },
     "output_type": "display_data"
    }
   ],
   "source": [
    "for name, val in results.items():\n",
    "    #plt.errorbar(lrs, val['means'], yerr=val['stds'] * len(means))\n",
    "    plt.errorbar(lrs, val['means'], yerr=[2] * len(val['means']), label=name)\n",
    "plt.legend()\n",
    "plt.xscale('log')"
   ]
  },
  {
   "cell_type": "code",
   "execution_count": null,
   "id": "81721a9c",
   "metadata": {},
   "outputs": [],
   "source": []
  }
 ],
 "metadata": {
  "kernelspec": {
   "display_name": "Python 3 (ipykernel)",
   "language": "python",
   "name": "python3"
  },
  "language_info": {
   "codemirror_mode": {
    "name": "ipython",
    "version": 3
   },
   "file_extension": ".py",
   "mimetype": "text/x-python",
   "name": "python",
   "nbconvert_exporter": "python",
   "pygments_lexer": "ipython3",
   "version": "3.10.4"
  }
 },
 "nbformat": 4,
 "nbformat_minor": 5
}
